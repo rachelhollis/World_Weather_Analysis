{
 "cells": [
  {
   "cell_type": "code",
   "execution_count": 34,
   "id": "92de7eab-4704-4ed5-8220-8ccb8605786d",
   "metadata": {},
   "outputs": [],
   "source": [
    "# import the random module\n",
    "import random\n",
    "import numpy as np\n",
    "import matplotlib.pyplot as plt\n",
    "from citipy import citipy"
   ]
  },
  {
   "cell_type": "code",
   "execution_count": 2,
   "id": "9701ebfc-4d9a-4901-aa5c-1ed9b7af296e",
   "metadata": {},
   "outputs": [
    {
     "data": {
      "text/plain": [
       "-22"
      ]
     },
     "execution_count": 2,
     "metadata": {},
     "output_type": "execute_result"
    }
   ],
   "source": [
    "# randint produces random integers\n",
    "random.randint(-90, 90)"
   ]
  },
  {
   "cell_type": "code",
   "execution_count": 4,
   "id": "44354801-812a-40f5-ba62-7ec824c9e8c5",
   "metadata": {},
   "outputs": [
    {
     "data": {
      "text/plain": [
       "0.0563491116217566"
      ]
     },
     "execution_count": 4,
     "metadata": {},
     "output_type": "execute_result"
    }
   ],
   "source": [
    "# random funtion get a single floating=point decimal\n",
    "random.random()"
   ]
  },
  {
   "cell_type": "code",
   "execution_count": 5,
   "id": "be9d8dea-407c-4b64-8643-e83617284d7d",
   "metadata": {},
   "outputs": [
    {
     "data": {
      "text/plain": [
       "-64.27511931095748"
      ]
     },
     "execution_count": 5,
     "metadata": {},
     "output_type": "execute_result"
    }
   ],
   "source": [
    "random_number = random.randint(-90,89) + random.random()\n",
    "random_number"
   ]
  },
  {
   "cell_type": "code",
   "execution_count": 8,
   "id": "5cb92497-02b1-48ad-99e1-2eb65b5c7c19",
   "metadata": {},
   "outputs": [
    {
     "data": {
      "text/plain": [
       "[-78.40326226094352,\n",
       " 5.993396322390309,\n",
       " -44.750030961372126,\n",
       " -39.483086318521984,\n",
       " 60.112778128075846,\n",
       " -31.246932378928648,\n",
       " 53.7292373640862,\n",
       " -78.95391701993282,\n",
       " -63.03359163007095,\n",
       " 27.35146327504301]"
      ]
     },
     "execution_count": 8,
     "metadata": {},
     "output_type": "execute_result"
    }
   ],
   "source": [
    "x = 1\n",
    "latitudes = []\n",
    "while x < 11:\n",
    "    random_lat = random.randint(-90,89) + random.random()\n",
    "    latitudes.append(random_lat)\n",
    "    x += 1\n",
    "latitudes"
   ]
  },
  {
   "cell_type": "code",
   "execution_count": 19,
   "id": "eafca281-5f52-40c6-a6fe-9e20b31dd68c",
   "metadata": {},
   "outputs": [
    {
     "data": {
      "text/plain": [
       "24"
      ]
     },
     "execution_count": 19,
     "metadata": {},
     "output_type": "execute_result"
    }
   ],
   "source": [
    "# randrange() function can add a step parameter step = 1 int values\n",
    "random.randrange(-90,90, step=3)"
   ]
  },
  {
   "cell_type": "code",
   "execution_count": 20,
   "id": "2fe2ab47-fdbd-4496-bb47-b2c80afdfa8f",
   "metadata": {},
   "outputs": [
    {
     "data": {
      "text/plain": [
       "67.45768527926586"
      ]
     },
     "execution_count": 20,
     "metadata": {},
     "output_type": "execute_result"
    }
   ],
   "source": [
    "# uniform() generates floating point decimal num between two given nums\n",
    "random.uniform(-90,90)"
   ]
  },
  {
   "cell_type": "code",
   "execution_count": 24,
   "id": "6d4e37a4-d329-471e-82b7-8bbd835b108f",
   "metadata": {},
   "outputs": [],
   "source": [
    "latitudes = np.random.uniform(-90.000, 90.000, size=1500)"
   ]
  },
  {
   "cell_type": "code",
   "execution_count": 27,
   "id": "33cb7a41-9842-4e60-b8d0-90e6862fd1d7",
   "metadata": {},
   "outputs": [
    {
     "data": {
      "text/plain": [
       "1500"
      ]
     },
     "execution_count": 27,
     "metadata": {},
     "output_type": "execute_result"
    }
   ],
   "source": [
    "len(latitudes)"
   ]
  },
  {
   "cell_type": "code",
   "execution_count": 40,
   "id": "cbcba81b-8c3f-4aac-85f0-0e436f1e18b8",
   "metadata": {},
   "outputs": [],
   "source": [
    "# Create a practice set of random latitude and longitude combinations.\n",
    "x = [25.12903645, 25.92017388, 26.62509167, -59.98969384, 37.30571269]\n",
    "y = [-67.59741259, 11.09532135, 74.84233102, -76.89176677, -61.13376282]\n",
    "coordinates = zip(x, y)"
   ]
  },
  {
   "cell_type": "code",
   "execution_count": 33,
   "id": "7e2eae4d-475d-4167-97a5-8c97dfd1a77f",
   "metadata": {},
   "outputs": [
    {
     "name": "stdout",
     "output_type": "stream",
     "text": [
      "25.12903645 -67.59741259\n",
      "25.92017388 11.09532135\n",
      "26.62509167 74.84233102\n",
      "-59.98969384 -76.89176677\n",
      "37.30571269 -61.13376282\n"
     ]
    }
   ],
   "source": [
    "# for the tuple() funct to display the lat and long combos \n",
    "for coordinate in coordinates:\n",
    "    print(coordinate[0], coordinate[1])"
   ]
  },
  {
   "cell_type": "code",
   "execution_count": 41,
   "id": "5b1183a0-7602-450f-9b39-c6c23dc1180e",
   "metadata": {},
   "outputs": [
    {
     "name": "stdout",
     "output_type": "stream",
     "text": [
      "cockburn town tc\n",
      "gat ly\n",
      "parvatsar in\n",
      "punta arenas cl\n",
      "saint george bm\n"
     ]
    }
   ],
   "source": [
    "# Use the tuple() function to display the latitude and longitude combinations.\n",
    "for coordinate in coordinates:\n",
    "    print(citipy.nearest_city(coordinate[0], coordinate[1]).city_name,\n",
    "          citipy.nearest_city(coordinate[0], coordinate[1]).country_code)"
   ]
  },
  {
   "cell_type": "code",
   "execution_count": null,
   "id": "3462676f-40ef-433d-bd0f-ce5fcb204bcd",
   "metadata": {},
   "outputs": [],
   "source": []
  }
 ],
 "metadata": {
  "kernelspec": {
   "display_name": "PythonData",
   "language": "python",
   "name": "pythondata"
  },
  "language_info": {
   "codemirror_mode": {
    "name": "ipython",
    "version": 3
   },
   "file_extension": ".py",
   "mimetype": "text/x-python",
   "name": "python",
   "nbconvert_exporter": "python",
   "pygments_lexer": "ipython3",
   "version": "3.7.11"
  }
 },
 "nbformat": 4,
 "nbformat_minor": 5
}
